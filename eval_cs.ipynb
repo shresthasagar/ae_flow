{
 "cells": [
  {
   "cell_type": "markdown",
   "id": "appropriate-roommate",
   "metadata": {},
   "source": [
    "## Evaluate compressed sensing task"
   ]
  },
  {
   "cell_type": "code",
   "execution_count": 37,
   "id": "minute-wagon",
   "metadata": {},
   "outputs": [],
   "source": [
    "def run_descent(generator, x, A, y, print_out=False, z_dimension=2, lr=0.01):\n",
    "\n",
    "    criterion = nn.MSELoss()\n",
    "    \n",
    "#     z = torch.randn((1,z_dimension), dtype=torch.float32) \n",
    "    z = torch.zeros((1,z_dimension), dtype=torch.float32)\n",
    "    z = z.to('cuda')\n",
    "    \n",
    "    # First select a good random vector\n",
    "    min_criterion = 9999999\n",
    "    for i in range(400):\n",
    "        temp = torch.randn((1,z_dimension), dtype=torch.float32)\n",
    "        temp = temp.to('cuda')\n",
    "        temp_out = generator(temp)\n",
    "#         temp_out = temp_out.permute(0,1,3,2)\n",
    "        x_hat = temp_out\n",
    "        temp_criterion = criterion(torch.matmul(A, x_hat), y) \n",
    "        if  temp_criterion < min_criterion:\n",
    "            z.data = temp.clone()\n",
    "            min_criterion = temp_criterion\n",
    "            print('min_first', min_criterion.item())\n",
    "\n",
    "    for i in range(200):\n",
    "        temp = 0.2*torch.randn((1,z_dimension), dtype=torch.float32).to('cuda') + z\n",
    "#         temp = temp.to('cuda')\n",
    "        temp_out = generator(temp)\n",
    "#         temp_out = temp_out.permute(0,1,3,2)\n",
    "        x_hat = temp_out\n",
    "        temp_criterion = criterion(torch.matmul(A, x_hat), y) \n",
    "        if  temp_criterion < min_criterion:\n",
    "            z.data = temp.clone()\n",
    "            min_criterion = temp_criterion\n",
    "            print('min_second', min_criterion.item())\n",
    "\n",
    "    z.requires_grad = True\n",
    "    \n",
    "    optimizer = torch.optim.Adam([z], lr=0.01)\n",
    "    \n",
    "    num_iter = 0\n",
    "    loss_prev = 999999\n",
    "    loss_current = 999\n",
    "    max_iter = 200\n",
    "    loss_change_threshold = 0.000001\n",
    "    while num_iter < max_iter: # and (loss_prev - loss_current > loss_change_threshold):\n",
    "        print(loss_prev-loss_current)\n",
    "        loss_prev = loss_current\n",
    "        optimizer.zero_grad()\n",
    "        \n",
    "        x_hat = generator(z)\n",
    "        \n",
    "        loss = criterion(torch.matmul(A, x_hat), y)\n",
    "        \n",
    "        loss.backward()\n",
    "        optimizer.step()\n",
    "\n",
    "        if print_out:\n",
    "            clear_output(wait=True)\n",
    "            actual_loss = torch.norm(x - x_hat)/torch.norm(x)\n",
    "            print(num_iter, actual_loss.item(), torch.norm(z))\n",
    "            time.sleep(0.01)\n",
    "        loss_current = loss.item()\n",
    "        num_iter += 1\n",
    "    \n",
    "    return x_hat, actual_loss"
   ]
  },
  {
   "cell_type": "markdown",
   "id": "demographic-tunisia",
   "metadata": {},
   "source": [
    "## Load dataset"
   ]
  },
  {
   "cell_type": "code",
   "execution_count": 75,
   "id": "rough-traffic",
   "metadata": {},
   "outputs": [
    {
     "data": {
      "image/png": "[encoded data removed]",
      "text/plain": [
       "<Figure size 432x288 with 1 Axes>"
      ]
     },
     "metadata": {
      "needs_background": "light"
     },
     "output_type": "display_data"
    }
   ],
   "source": [
    "import torch\n",
    "import matplotlib.pyplot as plt\n",
    "from dataset import MNISTDataset, MNISTFlowDataset\n",
    "import numpy as np\n",
    "import torch.nn as nn\n",
    "from IPython.display import clear_output\n",
    "import time\n",
    "\n",
    "latent_train_set = MNISTFlowDataset(path='data/MNIST/latent')\n",
    "image_train_set = MNISTDataset(path='data/MNIST/processed', normalize=True)\n",
    "\n",
    "latent_test_set = MNISTFlowDataset(path='data/MNIST/latent', train=False)\n",
    "image_test_set = MNISTDataset(path='data/MNIST/processed', train=False, normalize=True)\n",
    "\n",
    "num_observations = 5\n",
    "A = torch.randn((num_observations, 28), dtype=torch.float32)\n",
    "x = image_test_set[2]\n",
    "y = torch.matmul(A, x)\n",
    "\n",
    "A = A.to('cuda')\n",
    "x = x.to('cuda')\n",
    "y = y.to('cuda')\n",
    "\n",
    "def show_image(x):\n",
    "    plt.imshow(x.to('cpu').detach().squeeze().numpy())\n",
    "show_image(x)    "
   ]
  },
  {
   "cell_type": "markdown",
   "id": "foster-federal",
   "metadata": {},
   "source": [
    "## Autoencoder"
   ]
  },
  {
   "cell_type": "code",
   "execution_count": 23,
   "id": "arctic-hostel",
   "metadata": {},
   "outputs": [
    {
     "name": "stdout",
     "output_type": "stream",
     "text": [
      "499 0.9615607261657715 tensor(4.1344, device='cuda:0', grad_fn=<CopyBackwards>)\n"
     ]
    },
    {
     "data": {
      "image/png": "[encoded data removed]",
      "text/plain": [
       "<Figure size 432x288 with 1 Axes>"
      ]
     },
     "metadata": {
      "needs_background": "light"
     },
     "output_type": "display_data"
    }
   ],
   "source": [
    "autoencoder = torch.load('trained_models/mnist_ae_noact.model')\n",
    "autoenocder = autoencoder.to('cuda')\n",
    "autoencoder.eval()\n",
    "\n",
    "x_hat = run_descent(autoencoder.decoder, x, A, y, print_out=True, z_dimension=2, lr=0.01)\n",
    "show_image(x_hat)"
   ]
  },
  {
   "cell_type": "markdown",
   "id": "polish-foundation",
   "metadata": {},
   "source": [
    "## Flow model"
   ]
  },
  {
   "cell_type": "code",
   "execution_count": 24,
   "id": "powerful-associate",
   "metadata": {},
   "outputs": [
    {
     "name": "stdout",
     "output_type": "stream",
     "text": [
      "499 0.5648733973503113 tensor(2.0640, device='cuda:0', grad_fn=<CopyBackwards>)\n"
     ]
    },
    {
     "data": {
      "image/png": "[encoded data removed]",
      "text/plain": [
       "<Figure size 432x288 with 1 Axes>"
      ]
     },
     "metadata": {
      "needs_background": "light"
     },
     "output_type": "display_data"
    }
   ],
   "source": [
    "class Generator:\n",
    "    def __init__(self):\n",
    "        self.flow_model = torch.load('trained_models/mnist_flow_3.model')\n",
    "        self.flow_model = self.flow_model.to('cuda')\n",
    "        self.flow_model.eval()\n",
    "        self.autoencoder = torch.load('trained_models/mnist_ae_noact.model')\n",
    "        self.autoenocder = self.autoencoder.to('cuda')\n",
    "        self.autoencoder.eval()\n",
    "        \n",
    "    def __call__(self, z):\n",
    "        z = z.to('cuda')\n",
    "        z = self.flow_model.reverse(z)\n",
    "        return self.autoencoder.decoder(z)\n",
    "    \n",
    "# import flow model\n",
    "# flow_model = torch.load('trained_models/mnist_flow_3.model')\n",
    "\n",
    "\n",
    "# cuda_latent_train = latent_train_set.dataset.to('cuda')\n",
    "\n",
    "generator = Generator()\n",
    "\n",
    "x_hat = run_descent(generator, x, A, y, print_out=True, z_dimension=2, lr=0.01)\n",
    "show_image(x_hat)"
   ]
  },
  {
   "cell_type": "markdown",
   "id": "powerful-variance",
   "metadata": {},
   "source": [
    "## AAE"
   ]
  },
  {
   "cell_type": "code",
   "execution_count": 36,
   "id": "lonely-mountain",
   "metadata": {},
   "outputs": [
    {
     "name": "stdout",
     "output_type": "stream",
     "text": [
      "199 1.0618841648101807 tensor(37.9670, device='cuda:0', grad_fn=<CopyBackwards>)\n"
     ]
    },
    {
     "data": {
      "image/png": "[encoded data removed]",
      "text/plain": [
       "<Figure size 432x288 with 1 Axes>"
      ]
     },
     "metadata": {
      "needs_background": "light"
     },
     "output_type": "display_data"
    }
   ],
   "source": [
    "aae_model = torch.load('trained_models/mnist_aae_1.model')\n",
    "# aae_model = torch.load('trained_models/mnist_aae_semisupervised_r_100_2.model')\n",
    "\n",
    "aae_model = aae_model.to('cuda')\n",
    "aae_model.eval()\n",
    "\n",
    "x_hat,_ = run_descent(aae_model.autoencoder.decoder, x, A, y, print_out=True, z_dimension=2, lr=0.01)\n",
    "show_image(x_hat)"
   ]
  },
  {
   "cell_type": "markdown",
   "id": "union-passing",
   "metadata": {},
   "source": [
    "## VAE"
   ]
  },
  {
   "cell_type": "code",
   "execution_count": 26,
   "id": "overall-smoke",
   "metadata": {},
   "outputs": [
    {
     "name": "stdout",
     "output_type": "stream",
     "text": [
      "499 0.7730712890625 tensor(0.6771, device='cuda:0', grad_fn=<CopyBackwards>)\n"
     ]
    },
    {
     "data": {
      "image/png": "[encoded data removed]",
      "text/plain": [
       "<Figure size 432x288 with 1 Axes>"
      ]
     },
     "metadata": {
      "needs_background": "light"
     },
     "output_type": "display_data"
    }
   ],
   "source": [
    "vae_model = torch.load('trained_models/vae_mnist_zdim_2.model')\n",
    "vae_model = vae_model.to('cuda')\n",
    "vae_model.eval()\n",
    "\n",
    "x_hat = run_descent(vae_model.decode, x, A, y, print_out=True, z_dimension=2, lr=0.01)\n",
    "show_image(x_hat)"
   ]
  },
  {
   "cell_type": "code",
   "execution_count": 82,
   "id": "handmade-cherry",
   "metadata": {},
   "outputs": [
    {
     "data": {
      "image/png": "[encoded data removed]",
      "text/plain": [
       "<Figure size 432x288 with 1 Axes>"
      ]
     },
     "metadata": {
      "needs_background": "light"
     },
     "output_type": "display_data"
    }
   ],
   "source": [
    "import torch\n",
    "import matplotlib.pyplot as plt\n",
    "from dataset import MNISTDataset, MNISTFlowDataset\n",
    "import numpy as np\n",
    "import torch.nn as nn\n",
    "from IPython.display import clear_output\n",
    "import time\n",
    "\n",
    "latent_train_set = MNISTFlowDataset(path='data/MNIST/latent')\n",
    "image_train_set = MNISTDataset(path='data/MNIST/processed', normalize=True)\n",
    "\n",
    "latent_test_set = MNISTFlowDataset(path='data/MNIST/latent', train=False)\n",
    "image_test_set = MNISTDataset(path='data/MNIST/processed', train=False, normalize=True)\n",
    "\n",
    "num_observations = 5\n",
    "A = torch.randn((num_observations, 28), dtype=torch.float32)\n",
    "x = image_test_set[10]\n",
    "y = torch.matmul(A, x)\n",
    "\n",
    "A = A.to('cuda')\n",
    "x = x.to('cuda')\n",
    "y = y.to('cuda')\n",
    "\n",
    "def show_image(x):\n",
    "    plt.imshow(x.to('cpu').detach().squeeze().numpy())\n",
    "show_image(x)    "
   ]
  },
  {
   "cell_type": "code",
   "execution_count": 83,
   "id": "bronze-loading",
   "metadata": {},
   "outputs": [
    {
     "name": "stdout",
     "output_type": "stream",
     "text": [
      "199 0.5395735502243042 tensor(2.3224, device='cuda:0', grad_fn=<CopyBackwards>)\n"
     ]
    }
   ],
   "source": [
    "x_ae  , err_ae = run_descent(autoencoder.decoder, x, A, y, print_out=True, z_dimension=2, lr=0.01)\n",
    "x_flow, err_flow = run_descent(generator, x, A, y, print_out=True, z_dimension=2, lr=0.01)\n",
    "x_aae , err_aae = run_descent(aae_model.autoencoder.decoder, x, A, y, print_out=True, z_dimension=2, lr=0.01)\n",
    "x_vae , err_vae = run_descent(vae_model.decode, x, A, y, print_out=True, z_dimension=2, lr=0.01)\n",
    "\n"
   ]
  },
  {
   "cell_type": "code",
   "execution_count": 85,
   "id": "prerequisite-austria",
   "metadata": {},
   "outputs": [
    {
     "data": {
      "image/png": "[encoded data removed]",
      "text/plain": [
       "<Figure size 1440x1440 with 5 Axes>"
      ]
     },
     "metadata": {},
     "output_type": "display_data"
    }
   ],
   "source": [
    "fig, axes = plt.subplots(1,5, figsize=(20,20))\n",
    "\n",
    "axes[0].imshow(x.to('cpu').detach().squeeze().numpy())\n",
    "axes[0].set_title('Ground Truth')\n",
    "axes[0].set_xticks([])\n",
    "axes[0].set_yticks([])\n",
    "\n",
    "axes[1].imshow(x_flow.to('cpu').detach().squeeze().numpy())\n",
    "axes[1].set_title('Flow Autoencoder')\n",
    "axes[1].set_xticks([])\n",
    "axes[1].set_yticks([])\n",
    "axes[1].set_xlabel('MSE: {:.4f}'.format(err_flow))\n",
    "\n",
    "\n",
    "axes[2].imshow(x_ae.to('cpu').detach().squeeze().numpy())\n",
    "axes[2].set_title('Autoencoder')\n",
    "axes[2].set_xticks([])\n",
    "axes[2].set_yticks([])\n",
    "axes[2].set_xlabel('MSE: {:.4f}'.format(err_ae))\n",
    "\n",
    "# axes[1,1].set_title('Autoencoder')\n",
    "\n",
    "axes[3].imshow(x_vae.to('cpu').detach().squeeze().numpy())\n",
    "axes[3].set_title('Variational Autoencoder')\n",
    "axes[3].set_xticks([])\n",
    "axes[3].set_yticks([])\n",
    "axes[3].set_xlabel('MSE: {:.4f}'.format(err_vae))\n",
    "\n",
    "axes[4].imshow(x_aae.to('cpu').detach().squeeze().numpy())\n",
    "axes[4].set_title('Adversarial Autoencoder')\n",
    "axes[4].set_xticks([])\n",
    "axes[4].set_yticks([])\n",
    "axes[4].set_xlabel('MSE: {:.4f}'.format(err_aae))\n",
    "\n",
    "fig.savefig('data/cs_recons.pdf')"
   ]
  }
 ],
 "metadata": {
  "kernelspec": {
   "display_name": "Python 3",
   "language": "python",
   "name": "python3"
  },
  "language_info": {
   "codemirror_mode": {
    "name": "ipython",
    "version": 3
   },
   "file_extension": ".py",
   "mimetype": "text/x-python",
   "name": "python",
   "nbconvert_exporter": "python",
   "pygments_lexer": "ipython3",
   "version": "3.6.8"
  }
 },
 "nbformat": 4,
 "nbformat_minor": 5
}
