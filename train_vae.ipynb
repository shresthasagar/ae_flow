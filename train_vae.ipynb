{
 "cells": [
  {
   "cell_type": "markdown",
   "id": "adolescent-granny",
   "metadata": {},
   "source": [
    "## Train a VAE on MNIST"
   ]
  },
  {
   "cell_type": "code",
   "execution_count": 1,
   "metadata": {},
   "outputs": [],
   "source": [
    "a = 5"
   ]
  },
  {
   "cell_type": "code",
   "execution_count": 3,
   "id": "portuguese-frank",
   "metadata": {},
   "outputs": [
    {
     "output_type": "display_data",
     "data": {
      "text/plain": "    run_count  epoch   kl_loss  data_fidelity  beta  batch_size      lr  \\\n0           1      0  0.063949       0.744488    10         128  0.0005   \n1           1      1  0.177009       0.706146    10         128  0.0005   \n2           1      2  0.293781       0.696286    10         128  0.0005   \n3           1      3  0.411156       0.677554    10         128  0.0005   \n4           1      4  0.528895       0.660991    10         128  0.0005   \n5           1      5  0.646219       0.650418    10         128  0.0005   \n6           1      6  0.763237       0.641267    10         128  0.0005   \n7           1      7  0.879880       0.633562    10         128  0.0005   \n8           1      8  0.997879       0.626636    10         128  0.0005   \n9           1      9  1.115753       0.619469    10         128  0.0005   \n10          1     10  1.231609       0.613204    10         128  0.0005   \n11          1     11  1.349486       0.606799    10         128  0.0005   \n12          1     12  1.467152       0.600360    10         128  0.0005   \n\n   device  z_dim  \n0    cuda      2  \n1    cuda      2  \n2    cuda      2  \n3    cuda      2  \n4    cuda      2  \n5    cuda      2  \n6    cuda      2  \n7    cuda      2  \n8    cuda      2  \n9    cuda      2  \n10   cuda      2  \n11   cuda      2  \n12   cuda      2  ",
      "text/html": "<div>\n<style scoped>\n    .dataframe tbody tr th:only-of-type {\n        vertical-align: middle;\n    }\n\n    .dataframe tbody tr th {\n        vertical-align: top;\n    }\n\n    .dataframe thead th {\n        text-align: right;\n    }\n</style>\n<table border=\"1\" class=\"dataframe\">\n  <thead>\n    <tr style=\"text-align: right;\">\n      <th></th>\n      <th>run_count</th>\n      <th>epoch</th>\n      <th>kl_loss</th>\n      <th>data_fidelity</th>\n      <th>beta</th>\n      <th>batch_size</th>\n      <th>lr</th>\n      <th>device</th>\n      <th>z_dim</th>\n    </tr>\n  </thead>\n  <tbody>\n    <tr>\n      <th>0</th>\n      <td>1</td>\n      <td>0</td>\n      <td>0.063949</td>\n      <td>0.744488</td>\n      <td>10</td>\n      <td>128</td>\n      <td>0.0005</td>\n      <td>cuda</td>\n      <td>2</td>\n    </tr>\n    <tr>\n      <th>1</th>\n      <td>1</td>\n      <td>1</td>\n      <td>0.177009</td>\n      <td>0.706146</td>\n      <td>10</td>\n      <td>128</td>\n      <td>0.0005</td>\n      <td>cuda</td>\n      <td>2</td>\n    </tr>\n    <tr>\n      <th>2</th>\n      <td>1</td>\n      <td>2</td>\n      <td>0.293781</td>\n      <td>0.696286</td>\n      <td>10</td>\n      <td>128</td>\n      <td>0.0005</td>\n      <td>cuda</td>\n      <td>2</td>\n    </tr>\n    <tr>\n      <th>3</th>\n      <td>1</td>\n      <td>3</td>\n      <td>0.411156</td>\n      <td>0.677554</td>\n      <td>10</td>\n      <td>128</td>\n      <td>0.0005</td>\n      <td>cuda</td>\n      <td>2</td>\n    </tr>\n    <tr>\n      <th>4</th>\n      <td>1</td>\n      <td>4</td>\n      <td>0.528895</td>\n      <td>0.660991</td>\n      <td>10</td>\n      <td>128</td>\n      <td>0.0005</td>\n      <td>cuda</td>\n      <td>2</td>\n    </tr>\n    <tr>\n      <th>5</th>\n      <td>1</td>\n      <td>5</td>\n      <td>0.646219</td>\n      <td>0.650418</td>\n      <td>10</td>\n      <td>128</td>\n      <td>0.0005</td>\n      <td>cuda</td>\n      <td>2</td>\n    </tr>\n    <tr>\n      <th>6</th>\n      <td>1</td>\n      <td>6</td>\n      <td>0.763237</td>\n      <td>0.641267</td>\n      <td>10</td>\n      <td>128</td>\n      <td>0.0005</td>\n      <td>cuda</td>\n      <td>2</td>\n    </tr>\n    <tr>\n      <th>7</th>\n      <td>1</td>\n      <td>7</td>\n      <td>0.879880</td>\n      <td>0.633562</td>\n      <td>10</td>\n      <td>128</td>\n      <td>0.0005</td>\n      <td>cuda</td>\n      <td>2</td>\n    </tr>\n    <tr>\n      <th>8</th>\n      <td>1</td>\n      <td>8</td>\n      <td>0.997879</td>\n      <td>0.626636</td>\n      <td>10</td>\n      <td>128</td>\n      <td>0.0005</td>\n      <td>cuda</td>\n      <td>2</td>\n    </tr>\n    <tr>\n      <th>9</th>\n      <td>1</td>\n      <td>9</td>\n      <td>1.115753</td>\n      <td>0.619469</td>\n      <td>10</td>\n      <td>128</td>\n      <td>0.0005</td>\n      <td>cuda</td>\n      <td>2</td>\n    </tr>\n    <tr>\n      <th>10</th>\n      <td>1</td>\n      <td>10</td>\n      <td>1.231609</td>\n      <td>0.613204</td>\n      <td>10</td>\n      <td>128</td>\n      <td>0.0005</td>\n      <td>cuda</td>\n      <td>2</td>\n    </tr>\n    <tr>\n      <th>11</th>\n      <td>1</td>\n      <td>11</td>\n      <td>1.349486</td>\n      <td>0.606799</td>\n      <td>10</td>\n      <td>128</td>\n      <td>0.0005</td>\n      <td>cuda</td>\n      <td>2</td>\n    </tr>\n    <tr>\n      <th>12</th>\n      <td>1</td>\n      <td>12</td>\n      <td>1.467152</td>\n      <td>0.600360</td>\n      <td>10</td>\n      <td>128</td>\n      <td>0.0005</td>\n      <td>cuda</td>\n      <td>2</td>\n    </tr>\n  </tbody>\n</table>\n</div>"
     },
     "metadata": {}
    },
    {
     "output_type": "display_data",
     "data": {
      "text/plain": "<Figure size 432x288 with 1 Axes>",
      "image/svg+xml": "<?xml version=\"1.0\" encoding=\"utf-8\" standalone=\"no\"?>\n<!DOCTYPE svg PUBLIC \"-//W3C//DTD SVG 1.1//EN\"\n  \"http://www.w3.org/Graphics/SVG/1.1/DTD/svg11.dtd\">\n<!-- Created with matplotlib (https://matplotlib.org/) -->\n<svg height=\"248.518125pt\" version=\"1.1\" viewBox=\"0 0 251.565 248.518125\" width=\"251.565pt\" xmlns=\"http://www.w3.org/2000/svg\" xmlns:xlink=\"http://www.w3.org/1999/xlink\">\n <metadata>\n  <rdf:RDF xmlns:cc=\"http://creativecommons.org/ns#\" xmlns:dc=\"http://purl.org/dc/elements/1.1/\" xmlns:rdf=\"http://www.w3.org/1999/02/22-rdf-syntax-ns#\">\n   <cc:Work>\n    <dc:type rdf:resource=\"http://purl.org/dc/dcmitype/StillImage\"/>\n    <dc:date>2021-05-27T14:07:27.095344</dc:date>\n    <dc:format>image/svg+xml</dc:format>\n    <dc:creator>\n     <cc:Agent>\n      <dc:title>Matplotlib v3.3.3, https://matplotlib.org/</dc:title>\n     </cc:Agent>\n    </dc:creator>\n   </cc:Work>\n  </rdf:RDF>\n </metadata>\n <defs>\n  <style type=\"text/css\">*{stroke-linecap:butt;stroke-linejoin:round;}</style>\n </defs>\n <g id=\"figure_1\">\n  <g id=\"patch_1\">\n   <path d=\"M 0 248.518125 \nL 251.565 248.518125 \nL 251.565 0 \nL 0 0 \nz\n\" style=\"fill:none;\"/>\n  </g>\n  <g id=\"axes_1\">\n   <g id=\"patch_2\">\n    <path d=\"M 26.925 224.64 \nL 244.365 224.64 \nL 244.365 7.2 \nL 26.925 7.2 \nz\n\" style=\"fill:#ffffff;\"/>\n   </g>\n   <g clip-path=\"url(#p2da860c28b)\">\n    <image height=\"218\" id=\"imageded014bf2e\" transform=\"scale(1 -1)translate(0 -218)\" width=\"218\" x=\"26.925\" xlink:href=\"data:image/png;base64,\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\" y=\"-6.64\"/>\n   </g>\n   <g id=\"matplotlib.axis_1\">\n    <g id=\"xtick_1\">\n     <g id=\"line2d_1\">\n      <defs>\n       <path d=\"M 0 0 \nL 0 3.5 \n\" id=\"md62dbc6aa6\" style=\"stroke:#000000;stroke-width:0.8;\"/>\n      </defs>\n      <g>\n       <use style=\"stroke:#000000;stroke-width:0.8;\" x=\"30.807857\" xlink:href=\"#md62dbc6aa6\" y=\"224.64\"/>\n      </g>\n     </g>\n     <g id=\"text_1\">\n      <!-- 0 -->\n      <g transform=\"translate(27.626607 239.238437)scale(0.1 -0.1)\">\n       <defs>\n        <path d=\"M 31.78125 66.40625 \nQ 24.171875 66.40625 20.328125 58.90625 \nQ 16.5 51.421875 16.5 36.375 \nQ 16.5 21.390625 20.328125 13.890625 \nQ 24.171875 6.390625 31.78125 6.390625 \nQ 39.453125 6.390625 43.28125 13.890625 \nQ 47.125 21.390625 47.125 36.375 \nQ 47.125 51.421875 43.28125 58.90625 \nQ 39.453125 66.40625 31.78125 66.40625 \nz\nM 31.78125 74.21875 \nQ 44.046875 74.21875 50.515625 64.515625 \nQ 56.984375 54.828125 56.984375 36.375 \nQ 56.984375 17.96875 50.515625 8.265625 \nQ 44.046875 -1.421875 31.78125 -1.421875 \nQ 19.53125 -1.421875 13.0625 8.265625 \nQ 6.59375 17.96875 6.59375 36.375 \nQ 6.59375 54.828125 13.0625 64.515625 \nQ 19.53125 74.21875 31.78125 74.21875 \nz\n\" id=\"DejaVuSans-48\"/>\n       </defs>\n       <use xlink:href=\"#DejaVuSans-48\"/>\n      </g>\n     </g>\n    </g>\n    <g id=\"xtick_2\">\n     <g id=\"line2d_2\">\n      <g>\n       <use style=\"stroke:#000000;stroke-width:0.8;\" x=\"69.636429\" xlink:href=\"#md62dbc6aa6\" y=\"224.64\"/>\n      </g>\n     </g>\n     <g id=\"text_2\">\n      <!-- 5 -->\n      <g transform=\"translate(66.455179 239.238437)scale(0.1 -0.1)\">\n       <defs>\n        <path d=\"M 10.796875 72.90625 \nL 49.515625 72.90625 \nL 49.515625 64.59375 \nL 19.828125 64.59375 \nL 19.828125 46.734375 \nQ 21.96875 47.46875 24.109375 47.828125 \nQ 26.265625 48.1875 28.421875 48.1875 \nQ 40.625 48.1875 47.75 41.5 \nQ 54.890625 34.8125 54.890625 23.390625 \nQ 54.890625 11.625 47.5625 5.09375 \nQ 40.234375 -1.421875 26.90625 -1.421875 \nQ 22.3125 -1.421875 17.546875 -0.640625 \nQ 12.796875 0.140625 7.71875 1.703125 \nL 7.71875 11.625 \nQ 12.109375 9.234375 16.796875 8.0625 \nQ 21.484375 6.890625 26.703125 6.890625 \nQ 35.15625 6.890625 40.078125 11.328125 \nQ 45.015625 15.765625 45.015625 23.390625 \nQ 45.015625 31 40.078125 35.4375 \nQ 35.15625 39.890625 26.703125 39.890625 \nQ 22.75 39.890625 18.8125 39.015625 \nQ 14.890625 38.140625 10.796875 36.28125 \nz\n\" id=\"DejaVuSans-53\"/>\n       </defs>\n       <use xlink:href=\"#DejaVuSans-53\"/>\n      </g>\n     </g>\n    </g>\n    <g id=\"xtick_3\">\n     <g id=\"line2d_3\">\n      <g>\n       <use style=\"stroke:#000000;stroke-width:0.8;\" x=\"108.465\" xlink:href=\"#md62dbc6aa6\" y=\"224.64\"/>\n      </g>\n     </g>\n     <g id=\"text_3\">\n      <!-- 10 -->\n      <g transform=\"translate(102.1025 239.238437)scale(0.1 -0.1)\">\n       <defs>\n        <path d=\"M 12.40625 8.296875 \nL 28.515625 8.296875 \nL 28.515625 63.921875 \nL 10.984375 60.40625 \nL 10.984375 69.390625 \nL 28.421875 72.90625 \nL 38.28125 72.90625 \nL 38.28125 8.296875 \nL 54.390625 8.296875 \nL 54.390625 0 \nL 12.40625 0 \nz\n\" id=\"DejaVuSans-49\"/>\n       </defs>\n       <use xlink:href=\"#DejaVuSans-49\"/>\n       <use x=\"63.623047\" xlink:href=\"#DejaVuSans-48\"/>\n      </g>\n     </g>\n    </g>\n    <g id=\"xtick_4\">\n     <g id=\"line2d_4\">\n      <g>\n       <use style=\"stroke:#000000;stroke-width:0.8;\" x=\"147.293571\" xlink:href=\"#md62dbc6aa6\" y=\"224.64\"/>\n      </g>\n     </g>\n     <g id=\"text_4\">\n      <!-- 15 -->\n      <g transform=\"translate(140.931071 239.238437)scale(0.1 -0.1)\">\n       <use xlink:href=\"#DejaVuSans-49\"/>\n       <use x=\"63.623047\" xlink:href=\"#DejaVuSans-53\"/>\n      </g>\n     </g>\n    </g>\n    <g id=\"xtick_5\">\n     <g id=\"line2d_5\">\n      <g>\n       <use style=\"stroke:#000000;stroke-width:0.8;\" x=\"186.122143\" xlink:href=\"#md62dbc6aa6\" y=\"224.64\"/>\n      </g>\n     </g>\n     <g id=\"text_5\">\n      <!-- 20 -->\n      <g transform=\"translate(179.759643 239.238437)scale(0.1 -0.1)\">\n       <defs>\n        <path d=\"M 19.1875 8.296875 \nL 53.609375 8.296875 \nL 53.609375 0 \nL 7.328125 0 \nL 7.328125 8.296875 \nQ 12.9375 14.109375 22.625 23.890625 \nQ 32.328125 33.6875 34.8125 36.53125 \nQ 39.546875 41.84375 41.421875 45.53125 \nQ 43.3125 49.21875 43.3125 52.78125 \nQ 43.3125 58.59375 39.234375 62.25 \nQ 35.15625 65.921875 28.609375 65.921875 \nQ 23.96875 65.921875 18.8125 64.3125 \nQ 13.671875 62.703125 7.8125 59.421875 \nL 7.8125 69.390625 \nQ 13.765625 71.78125 18.9375 73 \nQ 24.125 74.21875 28.421875 74.21875 \nQ 39.75 74.21875 46.484375 68.546875 \nQ 53.21875 62.890625 53.21875 53.421875 \nQ 53.21875 48.921875 51.53125 44.890625 \nQ 49.859375 40.875 45.40625 35.40625 \nQ 44.1875 33.984375 37.640625 27.21875 \nQ 31.109375 20.453125 19.1875 8.296875 \nz\n\" id=\"DejaVuSans-50\"/>\n       </defs>\n       <use xlink:href=\"#DejaVuSans-50\"/>\n       <use x=\"63.623047\" xlink:href=\"#DejaVuSans-48\"/>\n      </g>\n     </g>\n    </g>\n    <g id=\"xtick_6\">\n     <g id=\"line2d_6\">\n      <g>\n       <use style=\"stroke:#000000;stroke-width:0.8;\" x=\"224.950714\" xlink:href=\"#md62dbc6aa6\" y=\"224.64\"/>\n      </g>\n     </g>\n     <g id=\"text_6\">\n      <!-- 25 -->\n      <g transform=\"translate(218.588214 239.238437)scale(0.1 -0.1)\">\n       <use xlink:href=\"#DejaVuSans-50\"/>\n       <use x=\"63.623047\" xlink:href=\"#DejaVuSans-53\"/>\n      </g>\n     </g>\n    </g>\n   </g>\n   <g id=\"matplotlib.axis_2\">\n    <g id=\"ytick_1\">\n     <g id=\"line2d_7\">\n      <defs>\n       <path d=\"M 0 0 \nL -3.5 0 \n\" id=\"m383d54c6f9\" style=\"stroke:#000000;stroke-width:0.8;\"/>\n      </defs>\n      <g>\n       <use style=\"stroke:#000000;stroke-width:0.8;\" x=\"26.925\" xlink:href=\"#m383d54c6f9\" y=\"11.082857\"/>\n      </g>\n     </g>\n     <g id=\"text_7\">\n      <!-- 0 -->\n      <g transform=\"translate(13.5625 14.882076)scale(0.1 -0.1)\">\n       <use xlink:href=\"#DejaVuSans-48\"/>\n      </g>\n     </g>\n    </g>\n    <g id=\"ytick_2\">\n     <g id=\"line2d_8\">\n      <g>\n       <use style=\"stroke:#000000;stroke-width:0.8;\" x=\"26.925\" xlink:href=\"#m383d54c6f9\" y=\"49.911429\"/>\n      </g>\n     </g>\n     <g id=\"text_8\">\n      <!-- 5 -->\n      <g transform=\"translate(13.5625 53.710647)scale(0.1 -0.1)\">\n       <use xlink:href=\"#DejaVuSans-53\"/>\n      </g>\n     </g>\n    </g>\n    <g id=\"ytick_3\">\n     <g id=\"line2d_9\">\n      <g>\n       <use style=\"stroke:#000000;stroke-width:0.8;\" x=\"26.925\" xlink:href=\"#m383d54c6f9\" y=\"88.74\"/>\n      </g>\n     </g>\n     <g id=\"text_9\">\n      <!-- 10 -->\n      <g transform=\"translate(7.2 92.539219)scale(0.1 -0.1)\">\n       <use xlink:href=\"#DejaVuSans-49\"/>\n       <use x=\"63.623047\" xlink:href=\"#DejaVuSans-48\"/>\n      </g>\n     </g>\n    </g>\n    <g id=\"ytick_4\">\n     <g id=\"line2d_10\">\n      <g>\n       <use style=\"stroke:#000000;stroke-width:0.8;\" x=\"26.925\" xlink:href=\"#m383d54c6f9\" y=\"127.568571\"/>\n      </g>\n     </g>\n     <g id=\"text_10\">\n      <!-- 15 -->\n      <g transform=\"translate(7.2 131.36779)scale(0.1 -0.1)\">\n       <use xlink:href=\"#DejaVuSans-49\"/>\n       <use x=\"63.623047\" xlink:href=\"#DejaVuSans-53\"/>\n      </g>\n     </g>\n    </g>\n    <g id=\"ytick_5\">\n     <g id=\"line2d_11\">\n      <g>\n       <use style=\"stroke:#000000;stroke-width:0.8;\" x=\"26.925\" xlink:href=\"#m383d54c6f9\" y=\"166.397143\"/>\n      </g>\n     </g>\n     <g id=\"text_11\">\n      <!-- 20 -->\n      <g transform=\"translate(7.2 170.196362)scale(0.1 -0.1)\">\n       <use xlink:href=\"#DejaVuSans-50\"/>\n       <use x=\"63.623047\" xlink:href=\"#DejaVuSans-48\"/>\n      </g>\n     </g>\n    </g>\n    <g id=\"ytick_6\">\n     <g id=\"line2d_12\">\n      <g>\n       <use style=\"stroke:#000000;stroke-width:0.8;\" x=\"26.925\" xlink:href=\"#m383d54c6f9\" y=\"205.225714\"/>\n      </g>\n     </g>\n     <g id=\"text_12\">\n      <!-- 25 -->\n      <g transform=\"translate(7.2 209.024933)scale(0.1 -0.1)\">\n       <use xlink:href=\"#DejaVuSans-50\"/>\n       <use x=\"63.623047\" xlink:href=\"#DejaVuSans-53\"/>\n      </g>\n     </g>\n    </g>\n   </g>\n   <g id=\"patch_3\">\n    <path d=\"M 26.925 224.64 \nL 26.925 7.2 \n\" style=\"fill:none;stroke:#000000;stroke-linecap:square;stroke-linejoin:miter;stroke-width:0.8;\"/>\n   </g>\n   <g id=\"patch_4\">\n    <path d=\"M 244.365 224.64 \nL 244.365 7.2 \n\" style=\"fill:none;stroke:#000000;stroke-linecap:square;stroke-linejoin:miter;stroke-width:0.8;\"/>\n   </g>\n   <g id=\"patch_5\">\n    <path d=\"M 26.925 224.64 \nL 244.365 224.64 \n\" style=\"fill:none;stroke:#000000;stroke-linecap:square;stroke-linejoin:miter;stroke-width:0.8;\"/>\n   </g>\n   <g id=\"patch_6\">\n    <path d=\"M 26.925 7.2 \nL 244.365 7.2 \n\" style=\"fill:none;stroke:#000000;stroke-linecap:square;stroke-linejoin:miter;stroke-width:0.8;\"/>\n   </g>\n  </g>\n </g>\n <defs>\n  <clipPath id=\"p2da860c28b\">\n   <rect height=\"217.44\" width=\"217.44\" x=\"26.925\" y=\"7.2\"/>\n  </clipPath>\n </defs>\n</svg>\n",
      "image/png": "[encoded data removed]"
     },
     "metadata": {
      "needs_background": "light"
     }
    },
    {
     "output_type": "stream",
     "name": "stderr",
     "text": [
      " 97%|█████████▋| 454/469 [00:32<00:01, 13.99it/s]\n"
     ]
    },
    {
     "output_type": "error",
     "ename": "KeyboardInterrupt",
     "evalue": "",
     "traceback": [
      "\u001b[0;31m---------------------------------------------------------------------------\u001b[0m",
      "\u001b[0;31mKeyboardInterrupt\u001b[0m                         Traceback (most recent call last)",
      "\u001b[0;32m<ipython-input-3-a58da6f228b5>\u001b[0m in \u001b[0;36m<module>\u001b[0;34m\u001b[0m\n\u001b[1;32m    103\u001b[0m \u001b[0;34m\u001b[0m\u001b[0m\n\u001b[1;32m    104\u001b[0m             losses = model.loss_function(*out,\n\u001b[0;32m--> 105\u001b[0;31m                                          M_N = run.batch_size/len(train_set))\n\u001b[0m\u001b[1;32m    106\u001b[0m             \u001b[0mlosses\u001b[0m\u001b[0;34m[\u001b[0m\u001b[0;34m'loss'\u001b[0m\u001b[0;34m]\u001b[0m\u001b[0;34m.\u001b[0m\u001b[0mbackward\u001b[0m\u001b[0;34m(\u001b[0m\u001b[0;34m)\u001b[0m\u001b[0;34m\u001b[0m\u001b[0;34m\u001b[0m\u001b[0m\n\u001b[1;32m    107\u001b[0m             \u001b[0moptimizer\u001b[0m\u001b[0;34m.\u001b[0m\u001b[0mstep\u001b[0m\u001b[0;34m(\u001b[0m\u001b[0;34m)\u001b[0m\u001b[0;34m\u001b[0m\u001b[0;34m\u001b[0m\u001b[0m\n",
      "\u001b[0;32m/scratch/sagar/Projects/flow/ae_flow/models/vae.py\u001b[0m in \u001b[0;36mloss_function\u001b[0;34m(self, *args, **kwargs)\u001b[0m\n\u001b[1;32m    160\u001b[0m         \u001b[0;32melif\u001b[0m \u001b[0mself\u001b[0m\u001b[0;34m.\u001b[0m\u001b[0mloss_type\u001b[0m \u001b[0;34m==\u001b[0m \u001b[0;34m'B'\u001b[0m\u001b[0;34m:\u001b[0m \u001b[0;31m# https://arxiv.org/pdf/1804.03599.pdf\u001b[0m\u001b[0;34m\u001b[0m\u001b[0;34m\u001b[0m\u001b[0m\n\u001b[1;32m    161\u001b[0m             \u001b[0mself\u001b[0m\u001b[0;34m.\u001b[0m\u001b[0mC_max\u001b[0m \u001b[0;34m=\u001b[0m \u001b[0mself\u001b[0m\u001b[0;34m.\u001b[0m\u001b[0mC_max\u001b[0m\u001b[0;34m.\u001b[0m\u001b[0mto\u001b[0m\u001b[0;34m(\u001b[0m\u001b[0minput\u001b[0m\u001b[0;34m.\u001b[0m\u001b[0mdevice\u001b[0m\u001b[0;34m)\u001b[0m\u001b[0;34m\u001b[0m\u001b[0;34m\u001b[0m\u001b[0m\n\u001b[0;32m--> 162\u001b[0;31m             \u001b[0mC\u001b[0m \u001b[0;34m=\u001b[0m \u001b[0mtorch\u001b[0m\u001b[0;34m.\u001b[0m\u001b[0mclamp\u001b[0m\u001b[0;34m(\u001b[0m\u001b[0mself\u001b[0m\u001b[0;34m.\u001b[0m\u001b[0mC_max\u001b[0m\u001b[0;34m/\u001b[0m\u001b[0mself\u001b[0m\u001b[0;34m.\u001b[0m\u001b[0mC_stop_iter\u001b[0m \u001b[0;34m*\u001b[0m \u001b[0mself\u001b[0m\u001b[0;34m.\u001b[0m\u001b[0mnum_iter\u001b[0m\u001b[0;34m,\u001b[0m \u001b[0;36m0\u001b[0m\u001b[0;34m,\u001b[0m \u001b[0mself\u001b[0m\u001b[0;34m.\u001b[0m\u001b[0mC_max\u001b[0m\u001b[0;34m.\u001b[0m\u001b[0mdata\u001b[0m\u001b[0;34m[\u001b[0m\u001b[0;36m0\u001b[0m\u001b[0;34m]\u001b[0m\u001b[0;34m)\u001b[0m\u001b[0;34m\u001b[0m\u001b[0;34m\u001b[0m\u001b[0m\n\u001b[0m\u001b[1;32m    163\u001b[0m             \u001b[0mloss\u001b[0m \u001b[0;34m=\u001b[0m \u001b[0mrecons_loss\u001b[0m \u001b[0;34m+\u001b[0m \u001b[0mself\u001b[0m\u001b[0;34m.\u001b[0m\u001b[0mgamma\u001b[0m \u001b[0;34m*\u001b[0m \u001b[0mkld_weight\u001b[0m\u001b[0;34m*\u001b[0m \u001b[0;34m(\u001b[0m\u001b[0mkld_loss\u001b[0m \u001b[0;34m-\u001b[0m \u001b[0mC\u001b[0m\u001b[0;34m)\u001b[0m\u001b[0;34m.\u001b[0m\u001b[0mabs\u001b[0m\u001b[0;34m(\u001b[0m\u001b[0;34m)\u001b[0m\u001b[0;34m\u001b[0m\u001b[0;34m\u001b[0m\u001b[0m\n\u001b[1;32m    164\u001b[0m         \u001b[0;32melse\u001b[0m\u001b[0;34m:\u001b[0m\u001b[0;34m\u001b[0m\u001b[0;34m\u001b[0m\u001b[0m\n",
      "\u001b[0;31mKeyboardInterrupt\u001b[0m: "
     ]
    }
   ],
   "source": [
    "from collections import OrderedDict, namedtuple\n",
    "from itertools import product\n",
    "import os\n",
    "from tqdm import tqdm, trange\n",
    "from IPython.display import clear_output\n",
    "import time\n",
    "import torch.nn as nn\n",
    "import pandas as pd\n",
    "import torch\n",
    "from models.vae import BetaVAE\n",
    "import matplotlib.pyplot as plt\n",
    "from dataset import MNISTDataset, MNIST_mean, MNIST_std\n",
    "\n",
    "\n",
    "class RunBuilder():\n",
    "    @staticmethod\n",
    "    def get_runs(params):\n",
    "\n",
    "        Run = namedtuple('Run', params.keys())\n",
    "\n",
    "        runs = []\n",
    "        for v in product(*params.values()):\n",
    "            runs.append(Run(*v))\n",
    "\n",
    "        return runs\n",
    "\n",
    "if torch.cuda.is_available():\n",
    "    devices = ['cuda']\n",
    "else:\n",
    "    devices = ['cpu']\n",
    "print('starting')\n",
    "\n",
    "\n",
    "params = OrderedDict(\n",
    "    lr = [0.0005],\n",
    "    batch_size = [128],\n",
    "    device = devices,\n",
    "    shuffle = [True],\n",
    "    num_workers = [5],\n",
    "    beta = [10],\n",
    "    z_dim = [2], \n",
    "    manual_seed = [1265],\n",
    "    loss_type = ['B']\n",
    ")\n",
    "\n",
    "train_set = MNISTDataset(path='data/MNIST/processed', normalize=True)\n",
    "\n",
    "\n",
    "run_count = 0\n",
    "models = []\n",
    "\n",
    "\n",
    "run_data = []\n",
    "\n",
    "data_load_time = 0\n",
    "forward_time = 0\n",
    "for run in RunBuilder.get_runs(params):\n",
    "#     torch.cuda.set_device(run.device)\n",
    "    \n",
    "    run_count += 1\n",
    "    device = torch.device(run.device)\n",
    "    \n",
    "    model = BetaVAE(\n",
    "                    latent_dim=run.z_dim,\n",
    "                    beta=run.beta,\n",
    "                   loss_type=run.loss_type)\n",
    "    model = model.to(device)\n",
    "    loader = torch.utils.data.DataLoader(train_set, batch_size=run.batch_size, shuffle=run.shuffle, num_workers=run.num_workers)\n",
    "    optimizer = torch.optim.Adam(model.parameters(), lr=run.lr)\n",
    "\n",
    "    num_batches = len(train_set)/run.batch_size\n",
    "    for epoch in range(100):\n",
    "\n",
    "        total_kl_loss = 0\n",
    "        total_recons_loss = 0\n",
    "        batch_count = 0\n",
    "        \n",
    "        results = OrderedDict()\n",
    "        results['run_count'] = run_count\n",
    "        results['epoch'] = epoch\n",
    "        results['kl_loss'] = total_kl_loss/num_batches\n",
    "        results['data_fidelity'] = total_recons_loss/num_batches\n",
    "        results['beta'] = run.beta\n",
    "        results['batch_size'] = run.batch_size\n",
    "        results['lr'] = run.lr\n",
    "        results['device'] = run.device\n",
    "        results['z_dim'] = run.z_dim\n",
    "        \n",
    "#         run_data.append(results)\n",
    "        df2 = pd.DataFrame.from_dict(run_data, orient='columns')\n",
    "        \n",
    "        \n",
    "     \n",
    "        for batch in tqdm(loader):\n",
    "            batch_count +=1\n",
    "#             print('data loading time', time.time() - data_load_time)\n",
    "            optimizer.zero_grad()\n",
    "#             forward_time = time.time()\n",
    "            X= batch\n",
    "            X = X.to(device=run.device)\n",
    "            out = model(X)\n",
    "#             print('forward  time', time.time() - forward_time)\n",
    "            \n",
    "            losses = model.loss_function(*out,\n",
    "                                         M_N = run.batch_size/len(train_set))\n",
    "            losses['loss'].backward()\n",
    "            optimizer.step()\n",
    "            \n",
    "#             print(' backward time', time.time() - forward_time)\n",
    "            total_kl_loss += losses['KLD'].item()\n",
    "            total_recons_loss += losses['Reconstruction_Loss'].item()\n",
    "            \n",
    "#             data_load_time = time.time()\n",
    "            if batch_count % 100 ==0:\n",
    "                clear_output(wait=True)\n",
    "                display(df2)\n",
    "                sample = model.sample(1, device)\n",
    "                sample = sample.to('cpu')\n",
    "                plt.imshow(torch.log(sample+1e-16).detach().squeeze().numpy())\n",
    "                plt.show()\n",
    "            \n",
    "        results = OrderedDict()\n",
    "        results['run_count'] = run_count\n",
    "        results['epoch'] = epoch\n",
    "        results['kl_loss'] = total_kl_loss/num_batches\n",
    "        results['data_fidelity'] = total_recons_loss/num_batches\n",
    "        results['beta'] = run.beta\n",
    "        results['batch_size'] = run.batch_size\n",
    "        results['lr'] = run.lr\n",
    "        results['device'] = run.device\n",
    "        results['z_dim'] = run.z_dim\n",
    "        \n",
    "        run_data.append(results)\n",
    "        df2 = pd.DataFrame.from_dict(run_data, orient='columns')\n",
    "        clear_output(wait=True)\n",
    "        display(df2)\n",
    "        sample = model.sample(1, device)\n",
    "        sample = sample.to('cpu')\n",
    "        plt.imshow(torch.log(sample+1e-16).detach().squeeze().numpy())\n",
    "        plt.show()\n",
    "\n",
    "        torch.save(model, 'trained_models/vae_temp.model'.format(run.lr,run.beta, run.z_dim))\n",
    "    models.append(model)"
   ]
  },
  {
   "cell_type": "code",
   "execution_count": null,
   "id": "three-zambia",
   "metadata": {},
   "outputs": [],
   "source": [
    "torch.tensr"
   ]
  }
 ],
 "metadata": {
  "kernelspec": {
   "display_name": "Python 3",
   "language": "python",
   "name": "python3"
  },
  "language_info": {
   "codemirror_mode": {
    "name": "ipython",
    "version": 3
   },
   "file_extension": ".py",
   "mimetype": "text/x-python",
   "name": "python",
   "nbconvert_exporter": "python",
   "pygments_lexer": "ipython3",
   "version": "3.6.8"
  }
 },
 "nbformat": 4,
 "nbformat_minor": 5
}